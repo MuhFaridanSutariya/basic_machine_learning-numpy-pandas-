{
 "cells": [
  {
   "cell_type": "code",
   "execution_count": 1,
   "id": "b6da75a7",
   "metadata": {},
   "outputs": [],
   "source": [
    "import pandas as pd"
   ]
  },
  {
   "cell_type": "code",
   "execution_count": 17,
   "id": "34a5d154",
   "metadata": {},
   "outputs": [],
   "source": [
    "tamu = [12,20,30]"
   ]
  },
  {
   "cell_type": "code",
   "execution_count": 27,
   "id": "fe0009aa",
   "metadata": {},
   "outputs": [
    {
     "name": "stdout",
     "output_type": "stream",
     "text": [
      "senin    NaN\n",
      "selasa   NaN\n",
      "kamis    NaN\n",
      "dtype: float64\n",
      "nan\n"
     ]
    }
   ],
   "source": [
    "#series befungsi menyimpan data dalam bentuk array 1 dimensi\n",
    "dataTamu = pd.Series(tamu)\n"
   ]
  },
  {
   "cell_type": "code",
   "execution_count": 19,
   "id": "e607cd7e",
   "metadata": {},
   "outputs": [
    {
     "name": "stdout",
     "output_type": "stream",
     "text": [
      "0    12\n",
      "1    20\n",
      "2    30\n",
      "dtype: int64\n"
     ]
    }
   ],
   "source": [
    "print(dataTamu)"
   ]
  },
  {
   "cell_type": "code",
   "execution_count": 29,
   "id": "a6ee3dc2",
   "metadata": {},
   "outputs": [
    {
     "name": "stdout",
     "output_type": "stream",
     "text": [
      "senin    NaN\n",
      "selasa   NaN\n",
      "kamis    NaN\n",
      "dtype: float64\n",
      "nan\n"
     ]
    }
   ],
   "source": [
    "#index berfungsi memberikan nama terhadap index default\n",
    "dTamu = pd.Series(dataTamu, index = [\"senin\", \"selasa\", \"kamis\"])\n",
    "print(dTamu)\n",
    "print(dTamu[\"senin\"])"
   ]
  },
  {
   "cell_type": "code",
   "execution_count": 24,
   "id": "34e26ec0",
   "metadata": {},
   "outputs": [],
   "source": [
    "pelanggan = {\n",
    "    \"jumat\" : 100,\n",
    "    \"sabtu\" : 120,\n",
    "    \"minggu\" : 140\n",
    "}"
   ]
  },
  {
   "cell_type": "code",
   "execution_count": 26,
   "id": "b2cdf3f7",
   "metadata": {},
   "outputs": [
    {
     "name": "stdout",
     "output_type": "stream",
     "text": [
      "jumat     100\n",
      "sabtu     120\n",
      "minggu    140\n",
      "dtype: int64\n"
     ]
    }
   ],
   "source": [
    "dataPelanggan = pd.Series(pelanggan)\n",
    "print(dataPelanggan)"
   ]
  },
  {
   "cell_type": "code",
   "execution_count": 74,
   "id": "516e6a3b",
   "metadata": {},
   "outputs": [
    {
     "name": "stdout",
     "output_type": "stream",
     "text": [
      "nis         S02\n",
      "nama     rusman\n",
      "nilai        40\n",
      "grade         D\n",
      "Name: 1, dtype: object\n"
     ]
    }
   ],
   "source": [
    "#dataframes berfungsi menyimpan data dalam bentuk array 2 dimensi / tabel yang terdiri dari baris dan kolom yang memiliki label\n",
    "UHMTK = {\n",
    "    'nis' : ['S01','S02','S03','S04'],\n",
    "    'nama' : ['udin','rusman','jamil','eka'],\n",
    "    'nilai' : [90,40,50,68],\n",
    "    'grade' : [\"A\",\"D\",\"C\",\"B\"]\n",
    "}\n",
    "hasil = pd.DataFrame(UHMTK)\n",
    "print(hasil.loc[1])"
   ]
  },
  {
   "cell_type": "code",
   "execution_count": null,
   "id": "613ea372",
   "metadata": {},
   "outputs": [],
   "source": []
  }
 ],
 "metadata": {
  "kernelspec": {
   "display_name": "Python 3",
   "language": "python",
   "name": "python3"
  },
  "language_info": {
   "codemirror_mode": {
    "name": "ipython",
    "version": 3
   },
   "file_extension": ".py",
   "mimetype": "text/x-python",
   "name": "python",
   "nbconvert_exporter": "python",
   "pygments_lexer": "ipython3",
   "version": "3.8.8"
  }
 },
 "nbformat": 4,
 "nbformat_minor": 5
}
